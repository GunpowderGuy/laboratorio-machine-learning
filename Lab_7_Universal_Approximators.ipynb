{
  "nbformat": 4,
  "nbformat_minor": 0,
  "metadata": {
    "colab": {
      "provenance": []
    },
    "kernelspec": {
      "name": "python3",
      "display_name": "Python 3"
    },
    "language_info": {
      "name": "python"
    }
  },
  "cells": [
    {
      "cell_type": "markdown",
      "source": [
        "# **Aproximadores Universales**"
      ],
      "metadata": {
        "id": "dz5h-Uq_lcSF"
      }
    },
    {
      "cell_type": "markdown",
      "source": [
        "**Equipo:**\n",
        "* Integrante 1 (XX%)\n",
        "* Integrante 2 (XX%)\n",
        "* Integrante 3 (XX%)\n",
        "* Integrante 4 (XX%)"
      ],
      "metadata": {
        "id": "RkNBUrijleWn"
      }
    },
    {
      "cell_type": "markdown",
      "source": [
        "## **Objetivo:**\n",
        "\n",
        "Explorar el Teorema de Aproximación Universal utilizando un Perceptrón Multicapa (MLP) para aproximar diversas funciones, comenzando con XOR y avanzando hacia funciones más complejas. Este laboratorio demuestra la capacidad de los MLP para aproximar funciones no lineales y reta a los estudiantes a experimentar con arquitecturas de modelos.\n",
        "\n",
        "## **Tareas:**\n",
        "\n",
        "1. **Aproximación de XOR**: Entrenar un MLP para aproximar la función XOR y evaluar su rendimiento utilizando el Error Cuadrático Medio (MSE).\n",
        "2. **Funciones de Desafío**: Aproximar tres funciones complejas, ajustando la arquitectura del MLP según sea necesario.\n",
        "\n",
        "   * Función 1: Sinusoidal con decaimiento\n",
        "   * Función 2: Polinómica por tramos con raíz\n",
        "   * Función 3: Trigonométrica y polinómica combinada en 2D\n",
        "3. **Reportar Resultados**: Entregar el análisis y los resultados en Canvas y compartir el RMSE y las gráficas.\n",
        "\n",
        "## **Entregables**\n",
        "\n",
        "1. **Canvas**: Entregar el Notebook de Colab con el código, valores de MSE y análisis.\n",
        "2. **Foro**: Publicar los valores finales de RMSE para cada función y el número de parámetros que utilizaron."
      ],
      "metadata": {
        "id": "hLl5Hlnwd06w"
      }
    },
    {
      "cell_type": "markdown",
      "source": [
        "# **Parte 1: Explorando la Propiedad de Aproximación Universal con XOR**\n"
      ],
      "metadata": {
        "id": "4uA2IsBgfS_l"
      }
    },
    {
      "cell_type": "markdown",
      "source": [
        "#### **Importar librerias**"
      ],
      "metadata": {
        "id": "0-j0V6nHAcBt"
      }
    },
    {
      "cell_type": "code",
      "source": [
        "import torch\n",
        "import torch.nn as nn\n",
        "import torch.optim as optim\n",
        "import numpy as np\n",
        "import matplotlib.pyplot as plt"
      ],
      "metadata": {
        "id": "3tgHyAx9Afol"
      },
      "execution_count": null,
      "outputs": []
    },
    {
      "cell_type": "code",
      "source": [
        "np.__version__"
      ],
      "metadata": {
        "colab": {
          "base_uri": "https://localhost:8080/",
          "height": 35
        },
        "id": "nJEY_6artZ5s",
        "outputId": "6d023e6d-8c4b-41e7-d7e6-f0c243f00977"
      },
      "execution_count": null,
      "outputs": [
        {
          "output_type": "execute_result",
          "data": {
            "text/plain": [
              "'2.0.2'"
            ],
            "application/vnd.google.colaboratory.intrinsic+json": {
              "type": "string"
            }
          },
          "metadata": {},
          "execution_count": 2
        }
      ]
    },
    {
      "cell_type": "markdown",
      "source": [
        "#### **Definir la función XOR**"
      ],
      "metadata": {
        "id": "8N7aLUIyAqEr"
      }
    },
    {
      "cell_type": "code",
      "source": [
        "# XOR dataset\n",
        "X = torch.tensor([[0, 0], [0, 1], [1, 0], [1, 1]], dtype=torch.float32)\n",
        "y = torch.tensor([[0], [1], [1], [0]], dtype=torch.float32)"
      ],
      "metadata": {
        "id": "t_mV9xmHA0N0"
      },
      "execution_count": null,
      "outputs": []
    },
    {
      "cell_type": "markdown",
      "source": [
        "#### **Construir una MLP para XOR**"
      ],
      "metadata": {
        "id": "ymxtBNh6A3Uu"
      }
    },
    {
      "cell_type": "code",
      "source": [
        "# Define a simple MLP\n",
        "class MLP_XOR(nn.Module):\n",
        "    def __init__(self):\n",
        "        super(MLP_XOR, self).__init__()\n",
        "        self.layer1 = nn.Linear(2, 4) # Crear una capa de neuronas ocultas, no tiene función de activation\n",
        "        # (2, 4) (input, output) | (4, 1)\n",
        "        self.layer2 = nn.Linear(4, 1)\n",
        "\n",
        "    def forward(self, x):\n",
        "        x = torch.relu(self.layer1(x)) # Funciones de activacion\n",
        "        x = torch.sigmoid(self.layer2(x))\n",
        "        return x\n",
        "\n",
        "model_xor = MLP_XOR()"
      ],
      "metadata": {
        "id": "6S7-3HSfA8SN"
      },
      "execution_count": null,
      "outputs": []
    },
    {
      "cell_type": "markdown",
      "source": [
        "#### **Entrenar una MLP para XOR**"
      ],
      "metadata": {
        "id": "xrpe7TuUBlX4"
      }
    },
    {
      "cell_type": "code",
      "source": [
        "# Loss function and optimizer\n",
        "criterion = nn.MSELoss()\n",
        "optimizer = optim.Adam(model_xor.parameters(), lr=0.1)\n",
        "\n",
        "# Training loop\n",
        "losses = []\n",
        "for epoch in range(100):\n",
        "    optimizer.zero_grad()\n",
        "    output = model_xor(X)\n",
        "    loss = criterion(output, y)\n",
        "    loss.backward()\n",
        "    optimizer.step()\n",
        "    losses.append(loss.item())\n",
        "    if (epoch+1) % 10 == 0:\n",
        "        print(f'Epoch [{epoch+1}/500], Loss: {loss.item():.4f}')"
      ],
      "metadata": {
        "colab": {
          "base_uri": "https://localhost:8080/"
        },
        "id": "J7mDKIXZBkQO",
        "outputId": "1e86111b-4323-4fa7-9fe5-5d0c9f718e2c"
      },
      "execution_count": null,
      "outputs": [
        {
          "output_type": "stream",
          "name": "stdout",
          "text": [
            "Epoch [10/500], Loss: 0.2343\n",
            "Epoch [20/500], Loss: 0.1793\n",
            "Epoch [30/500], Loss: 0.1676\n",
            "Epoch [40/500], Loss: 0.1669\n",
            "Epoch [50/500], Loss: 0.1668\n",
            "Epoch [60/500], Loss: 0.1667\n",
            "Epoch [70/500], Loss: 0.1667\n",
            "Epoch [80/500], Loss: 0.1667\n",
            "Epoch [90/500], Loss: 0.1667\n",
            "Epoch [100/500], Loss: 0.1667\n"
          ]
        }
      ]
    },
    {
      "cell_type": "markdown",
      "source": [
        "#### **Visualización del error de entrenamiento (MSE)**"
      ],
      "metadata": {
        "id": "WAj499nSBdsN"
      }
    },
    {
      "cell_type": "code",
      "source": [
        "# Plot MSE over epochs\n",
        "plt.plot(losses)\n",
        "plt.title('XOR Training Loss (MSE) over Epochs')\n",
        "plt.xlabel('Epochs')\n",
        "plt.ylabel('MSE')\n",
        "plt.show()"
      ],
      "metadata": {
        "colab": {
          "base_uri": "https://localhost:8080/",
          "height": 472
        },
        "id": "LXXPCX5jBgbc",
        "outputId": "0b04ea29-2527-4a9d-f76b-03f530dd4bae"
      },
      "execution_count": null,
      "outputs": [
        {
          "output_type": "display_data",
          "data": {
            "text/plain": [
              "<Figure size 640x480 with 1 Axes>"
            ],
            "image/png": "[encoded data removed]"
          },
          "metadata": {}
        }
      ]
    },
    {
      "cell_type": "markdown",
      "source": [
        "#### **Revisar predicciones**"
      ],
      "metadata": {
        "id": "fW2dnjcdCBLz"
      }
    },
    {
      "cell_type": "code",
      "source": [
        "# Predictions for XOR\n",
        "with torch.no_grad():\n",
        "    predictions_xor = model_xor(X).round()\n",
        "print(\"Predicted values for XOR inputs:\", predictions_xor)"
      ],
      "metadata": {
        "colab": {
          "base_uri": "https://localhost:8080/"
        },
        "id": "pIKGRrCnC0OY",
        "outputId": "8fc210d2-2c46-4a8a-abe9-4a0e411f2961"
      },
      "execution_count": null,
      "outputs": [
        {
          "output_type": "stream",
          "name": "stdout",
          "text": [
            "Predicted values for XOR inputs: tensor([[0.],\n",
            "        [0.],\n",
            "        [1.],\n",
            "        [0.]])\n"
          ]
        }
      ]
    },
    {
      "cell_type": "markdown",
      "source": [
        "#### **Original vs Aproximación**"
      ],
      "metadata": {
        "id": "5YXZxpXnDQOD"
      }
    },
    {
      "cell_type": "code",
      "source": [
        "# True XOR values for each input pair\n",
        "true_xor_outputs = y.numpy()\n",
        "\n",
        "# Network predictions\n",
        "with torch.no_grad():\n",
        "    predicted_xor_outputs = model_xor(X).numpy()\n",
        "\n",
        "# Separate the data for plotting\n",
        "inputs = X.numpy()\n",
        "predictions = predicted_xor_outputs.round()  # Round to nearest integer (0 or 1) for visualization\n",
        "true_outputs = true_xor_outputs\n",
        "\n",
        "# Set up a plot to show the XOR predictions vs actual values\n",
        "plt.figure(figsize=(8, 4))\n",
        "\n",
        "# Plot the true XOR outputs\n",
        "plt.subplot(1, 2, 1)\n",
        "plt.scatter(inputs[:, 0], inputs[:, 1], c=true_outputs.squeeze(), cmap=\"coolwarm\", marker=\"o\", s=100)\n",
        "plt.title(\"True XOR Function\")\n",
        "plt.xlabel(\"Input 1\")\n",
        "plt.ylabel(\"Input 2\")\n",
        "plt.colorbar(label=\"XOR Output (0 or 1)\")\n",
        "\n",
        "# Plot the network's approximation\n",
        "plt.subplot(1, 2, 2)\n",
        "plt.scatter(inputs[:, 0], inputs[:, 1], c=predictions.squeeze(), cmap=\"coolwarm\", marker=\"o\", s=100)\n",
        "plt.title(\"MLP Approximation of XOR\")\n",
        "plt.xlabel(\"Input 1\")\n",
        "plt.ylabel(\"Input 2\")\n",
        "plt.colorbar(label=\"Predicted Output (0 or 1)\")\n",
        "\n",
        "plt.tight_layout()\n",
        "plt.show()"
      ],
      "metadata": {
        "colab": {
          "base_uri": "https://localhost:8080/",
          "height": 407
        },
        "id": "IsdVZHqeDTf2",
        "outputId": "f6073146-ed67-452d-ba09-778f82c7e3cc"
      },
      "execution_count": null,
      "outputs": [
        {
          "output_type": "display_data",
          "data": {
            "text/plain": [
              "<Figure size 800x400 with 4 Axes>"
            ],
            "image/png": "[encoded data removed]"
          },
          "metadata": {}
        }
      ]
    },
    {
      "cell_type": "markdown",
      "source": [
        "## **2. Desafío – Aproximación de Funciones No Triviales**\n",
        "\n",
        "En esta sección, crearás MLPs para aproximar las siguientes funciones. Ajusta la arquitectura y experimenta con diferentes parámetros según sea necesario.\n"
      ],
      "metadata": {
        "id": "lx7EzhXuDdjL"
      }
    },
    {
      "cell_type": "markdown",
      "source": [
        "#### **Función 1: Sinusoidal con Variación de Frecuencia**"
      ],
      "metadata": {
        "id": "R7s1qtk0Dk-e"
      }
    },
    {
      "cell_type": "code",
      "source": [
        "# Generating data for f(x) = sin(5x) * exp(-0.1x)\n",
        "x1 = np.linspace(0, 10, 500)\n",
        "y1 = np.sin(5 * x1) * np.exp(-0.1 * x1)"
      ],
      "metadata": {
        "id": "iyGcU9KlDoDA"
      },
      "execution_count": null,
      "outputs": []
    },
    {
      "cell_type": "markdown",
      "source": [
        "#### **Función 2: Función por Tramos**\n"
      ],
      "metadata": {
        "id": "HIO2kYEbDq9U"
      }
    },
    {
      "cell_type": "code",
      "source": [
        "# Generating data for piecewise function\n",
        "x2 = np.linspace(-5, 5, 500)\n",
        "y2 = np.where(x2 < 0, x2**3, np.sqrt(np.abs(x2)))"
      ],
      "metadata": {
        "id": "TvBQhssSDuNv"
      },
      "execution_count": null,
      "outputs": []
    },
    {
      "cell_type": "markdown",
      "source": [
        "#### **Función 3: Función 2D con Operaciones Mixtas**"
      ],
      "metadata": {
        "id": "X6mCFrfOD0cG"
      }
    },
    {
      "cell_type": "code",
      "source": [
        "# Generating data for f(x, y) = sin(x) * cos(y) + x^2 - y^2\n",
        "x3 = np.linspace(-5, 5, 100)\n",
        "y3 = np.linspace(-5, 5, 100)\n",
        "X3, Y3 = np.meshgrid(x3, y3)\n",
        "Z3 = np.sin(X3) * np.cos(Y3) + X3**2 - Y3**2"
      ],
      "metadata": {
        "id": "nWF9TbN7D5FD"
      },
      "execution_count": null,
      "outputs": []
    },
    {
      "cell_type": "markdown",
      "source": [
        "## **3. Análisis y Discusión**\n",
        "\n",
        "#### **Preguntas para el Análisis**\n",
        "\n",
        "* ¿Cómo afectaron los cambios en la arquitectura del MLP a la aproximación de cada función?\n",
        "* ¿Qué funciones fueron más fáciles o más difíciles de aproximar, y por qué?\n",
        "* ¿Qué aprendizajes obtienes sobre los MLP y el Teorema de Aproximación Universal?\n"
      ],
      "metadata": {
        "id": "7w3l8sVC_MBn"
      }
    },
    {
      "cell_type": "code",
      "source": [],
      "metadata": {
        "id": "YMPHGg8OfiJH"
      },
      "execution_count": null,
      "outputs": []
    }
  ]
}